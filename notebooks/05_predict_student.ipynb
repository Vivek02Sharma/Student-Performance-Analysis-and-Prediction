{
 "cells": [
  {
   "cell_type": "code",
   "execution_count": 1,
   "id": "a3917f9d",
   "metadata": {},
   "outputs": [
    {
     "name": "stdout",
     "output_type": "stream",
     "text": [
      "Model trained. RMSE on test set: 2.32\n",
      "Model and scaler saved to 'models/' folder.\n",
      "Predicted SGPA for Sem2: 9.57\n"
     ]
    }
   ],
   "source": [
    "import pandas as pd\n",
    "import numpy as np\n",
    "from sklearn.ensemble import RandomForestRegressor\n",
    "from sklearn.model_selection import train_test_split\n",
    "from sklearn.preprocessing import StandardScaler\n",
    "from sklearn.metrics import mean_squared_error\n",
    "\n",
    "import os\n",
    "import pickle\n",
    "\n",
    "# Load and Merge Sem1 + Sem2 data\n",
    "def load_and_merge_data(sem1_path, sem2_path):\n",
    "    sem1 = pd.read_csv(sem1_path)\n",
    "    sem2 = pd.read_csv(sem2_path)\n",
    "\n",
    "    sem1 = sem1.rename(columns={\"SGPA\": \"SGPA_sem1\", \"TotalMarks\": \"TotalMarks_sem1\"})\n",
    "    sem2 = sem2.rename(columns={\"SGPA\": \"SGPA_sem2\"})\n",
    "\n",
    "    merged = pd.merge(sem1, sem2[[\"StudentId\", \"SGPA_sem2\"]], on=\"StudentId\", how=\"inner\")\n",
    "    return merged\n",
    "\n",
    "# Feature Engineering from Sem1\n",
    "\n",
    "def prepare_features(data):\n",
    "    int_cols = [col for col in data.columns if col.startswith(\"INT_\")]\n",
    "    ext_cols = [col for col in data.columns if col.startswith(\"EXT_\")]\n",
    "\n",
    "    data[\"Sem1_INT_Total\"] = data[int_cols].sum(axis=1)\n",
    "    data[\"Sem1_EXT_Total\"] = data[ext_cols].sum(axis=1)\n",
    "    data[\"Sem1_Total\"] = data[\"Sem1_INT_Total\"] + data[\"Sem1_EXT_Total\"]\n",
    "    data[\"Sem1_Percentage\"] = (data[\"Sem1_Total\"] / data[\"TotalMarks_sem1\"]) * 100\n",
    "\n",
    "    data[\"SGPA_sem1_squared\"] = data[\"SGPA_sem1\"] ** 2\n",
    "    data[\"SGPA_sem1_log\"] = np.log1p(data[\"SGPA_sem1\"])\n",
    "\n",
    "    features = [\n",
    "        \"Sem1_INT_Total\", \"Sem1_EXT_Total\", \"Sem1_Total\",\n",
    "        \"Sem1_Percentage\", \"SGPA_sem1\", \"SGPA_sem1_squared\", \"SGPA_sem1_log\"\n",
    "    ]\n",
    "    return data, features\n",
    "\n",
    "# Predict SGPA of Sem2 for 1 student\n",
    "def predict_sem2_sgpa(student_data, model, scaler, features):\n",
    "    student_df = pd.DataFrame([student_data])\n",
    "    student_df[\"TotalMarks_sem1\"] = 700\n",
    "\n",
    "    student_df, _ = prepare_features(student_df)\n",
    "    X_input = scaler.transform(student_df[features])\n",
    "    sgpa_pred = model.predict(X_input)[0]\n",
    "    return round(sgpa_pred, 2)\n",
    "\n",
    "\n",
    "if __name__ == \"__main__\":\n",
    "    # Load and merge sem1 and sem2 data\n",
    "    merged_df = load_and_merge_data(\"BMS_sem1_process.csv\", \"BMS_sem2_process.csv\")\n",
    "\n",
    "    # Prepare training data\n",
    "    merged_df, feature_cols = prepare_features(merged_df)\n",
    "    X = merged_df[feature_cols]\n",
    "    y = merged_df[\"SGPA_sem2\"]\n",
    "\n",
    "    # Split and train\n",
    "    X_train, X_test, y_train, y_test = train_test_split(X, y, test_size=0.2, random_state=42)\n",
    "    scaler = StandardScaler()\n",
    "    X_train_scaled = scaler.fit_transform(X_train)\n",
    "\n",
    "    model = RandomForestRegressor()\n",
    "    model.fit(X_train_scaled, y_train)\n",
    "\n",
    "    X_test_scaled = scaler.transform(X_test)\n",
    "    y_pred = model.predict(X_test_scaled)\n",
    "    rmse = np.sqrt(mean_squared_error(y_test, y_pred))\n",
    "    print(f\"Model trained. RMSE on test set: {rmse:.2f}\")\n",
    "\n",
    "    os.makedirs(\"models\", exist_ok=True)\n",
    "\n",
    "    with open(\"models\\sgpa_model1.pkl\", \"wb\") as f:\n",
    "        pickle.dump(model, f)\n",
    "    with open(\"models\\scaler.pkl\", \"wb\") as f:\n",
    "        pickle.dump(scaler, f)\n",
    "    print(f\"Model and scaler saved to 'models/' folder.\")\n",
    "\n",
    "    # Predict for new student\n",
    "    student_sem1_data = {\n",
    "        \"StudentId\": 3735942,\n",
    "        \"INT_BMSBC103\": 35,\n",
    "        \"EXT_BMSBC103\": 55,\n",
    "        \"INT_BMSBL107\": 31,\n",
    "        \"EXT_BMSBL107\": 48,\n",
    "        \"INT_BMSBS106\": 34,\n",
    "        \"EXT_BMSBS106\": 51,\n",
    "        \"INT_BMSECO102\": 34,\n",
    "        \"EXT_BMSECO102\": 46,\n",
    "        \"INT_BMSFA105\": 38,\n",
    "        \"EXT_BMSFA105\": 53,\n",
    "        \"INT_BMSFC104\": 36,\n",
    "        \"EXT_BMSFC104\": 51,\n",
    "        \"INT_BMSFHS101\": 39,\n",
    "        \"EXT_BMSFHS101\": 55,\n",
    "        \"SGPA_sem1\": 10\n",
    "    }\n",
    "\n",
    "    predicted_sgpa = predict_sem2_sgpa(student_sem1_data, model, scaler, feature_cols)\n",
    "    print(f\"Predicted SGPA for Sem2: {predicted_sgpa}\")\n"
   ]
  },
  {
   "cell_type": "code",
   "execution_count": null,
   "id": "3770680f",
   "metadata": {},
   "outputs": [],
   "source": []
  },
  {
   "cell_type": "code",
   "execution_count": 5,
   "id": "739d9e09",
   "metadata": {},
   "outputs": [
    {
     "data": {
      "text/plain": [
       "(142, 29)"
      ]
     },
     "execution_count": 5,
     "metadata": {},
     "output_type": "execute_result"
    }
   ],
   "source": [
    "merged_df.shape"
   ]
  },
  {
   "cell_type": "code",
   "execution_count": null,
   "id": "51a70d1a",
   "metadata": {},
   "outputs": [],
   "source": []
  }
 ],
 "metadata": {
  "kernelspec": {
   "display_name": "Python 3",
   "language": "python",
   "name": "python3"
  },
  "language_info": {
   "codemirror_mode": {
    "name": "ipython",
    "version": 3
   },
   "file_extension": ".py",
   "mimetype": "text/x-python",
   "name": "python",
   "nbconvert_exporter": "python",
   "pygments_lexer": "ipython3",
   "version": "3.10.7"
  }
 },
 "nbformat": 4,
 "nbformat_minor": 5
}
